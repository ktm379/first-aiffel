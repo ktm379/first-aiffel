{
 "cells": [
  {
   "cell_type": "markdown",
   "id": "af73f28d",
   "metadata": {},
   "source": [
    "# This is a H1\n",
    "## This is a H2\n",
    "### This is a H3\n",
    "#### This is a H4\n",
    "##### This is a H5\n",
    "###### This is a H6"
   ]
  },
  {
   "cell_type": "markdown",
   "id": "b60cd48a",
   "metadata": {},
   "source": [
    "1. 첫번째\n",
    "2. 두번째\n",
    "3. 세번째"
   ]
  },
  {
   "cell_type": "markdown",
   "id": "29f71495",
   "metadata": {},
   "source": [
    "- 빨강\n",
    "    - 녹색\n",
    "        - 파랑"
   ]
  },
  {
   "cell_type": "markdown",
   "id": "7833492f",
   "metadata": {},
   "source": [
    "[구글](https://google.com)"
   ]
  },
  {
   "cell_type": "markdown",
   "id": "7b20a6ce",
   "metadata": {},
   "source": [
    "*single asterisks*\n",
    "\n",
    "_single underscores_\n",
    "\n",
    "**double asterisks**\n",
    "\n",
    "__double underscores__\n",
    "\n",
    "~~cancelline~~"
   ]
  },
  {
   "cell_type": "markdown",
   "id": "c7545a2e",
   "metadata": {},
   "source": [
    "print(\"hello Markdown\")"
   ]
  },
  {
   "cell_type": "markdown",
   "id": "d442834d",
   "metadata": {},
   "source": [
    "* 줄바꿈을 하기 위해서는 문장 마지막에서 2칸 이상을 띄어쓰기해야 한다.  \n",
    "이렇게\n",
    "\n",
    "\n",
    "* 줄 바꿈을 하기 위해서는 문장 마지막에서 2칸 이상을 띄어쓰기해야 한다.__  \n",
    " 띄어쓰기 이렇게"
   ]
  },
  {
   "cell_type": "markdown",
   "id": "ded60b40",
   "metadata": {},
   "source": [
    "![Alt text](path/to/img.png)"
   ]
  },
  {
   "cell_type": "markdown",
   "id": "83041308",
   "metadata": {},
   "source": [
    "<img src=\"/path/to/img.jpg\" width=\"450px\" height=\"300px\"></img>"
   ]
  },
  {
   "cell_type": "markdown",
   "id": "c73b9b5b",
   "metadata": {},
   "source": [
    "- [마크다운 공식 사이트](https://daringfireball.net/projects/markdown/)  \n",
    "- [GitHub](https://github.com/)  \n",
    "- [아이펠](https://aiffel.io/)"
   ]
  },
  {
   "cell_type": "code",
   "execution_count": null,
   "id": "42e7f1b4",
   "metadata": {},
   "outputs": [],
   "source": []
  }
 ],
 "metadata": {
  "kernelspec": {
   "display_name": "Python 3 (ipykernel)",
   "language": "python",
   "name": "python3"
  },
  "language_info": {
   "codemirror_mode": {
    "name": "ipython",
    "version": 3
   },
   "file_extension": ".py",
   "mimetype": "text/x-python",
   "name": "python",
   "nbconvert_exporter": "python",
   "pygments_lexer": "ipython3",
   "version": "3.9.7"
  }
 },
 "nbformat": 4,
 "nbformat_minor": 5
}
